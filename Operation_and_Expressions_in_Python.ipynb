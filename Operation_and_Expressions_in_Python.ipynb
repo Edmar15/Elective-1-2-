{
  "nbformat": 4,
  "nbformat_minor": 0,
  "metadata": {
    "colab": {
      "name": "Operation and Expressions in Python.ipynb",
      "provenance": [],
      "authorship_tag": "ABX9TyNX0TU9j4u2+hWnBnhv4Nn7",
      "include_colab_link": true
    },
    "kernelspec": {
      "name": "python3",
      "display_name": "Python 3"
    },
    "language_info": {
      "name": "python"
    }
  },
  "cells": [
    {
      "cell_type": "markdown",
      "metadata": {
        "id": "view-in-github",
        "colab_type": "text"
      },
      "source": [
        "<a href=\"https://colab.research.google.com/github/Edmar15/Elective-1-2-/blob/main/Operation_and_Expressions_in_Python.ipynb\" target=\"_parent\"><img src=\"https://colab.research.google.com/assets/colab-badge.svg\" alt=\"Open In Colab\"/></a>"
      ]
    },
    {
      "cell_type": "markdown",
      "source": [
        "##Boolean Operators"
      ],
      "metadata": {
        "id": "UidADaMvHHw4"
      }
    },
    {
      "cell_type": "markdown",
      "source": [
        ""
      ],
      "metadata": {
        "id": "T9vwXt1UFqly"
      }
    },
    {
      "cell_type": "code",
      "source": [
        "print(10>9)\n",
        "print(9==9)\n",
        "print(10<9)"
      ],
      "metadata": {
        "colab": {
          "base_uri": "https://localhost:8080/"
        },
        "id": "c9HqEqSiHTwT",
        "outputId": "d8bf760a-08eb-413a-e5e7-fe0dd3f75bfc"
      },
      "execution_count": 2,
      "outputs": [
        {
          "output_type": "stream",
          "name": "stdout",
          "text": [
            "True\n",
            "True\n",
            "False\n"
          ]
        }
      ]
    },
    {
      "cell_type": "code",
      "source": [
        "(10>9)\n",
        "(9==9)\n",
        "(10<9)"
      ],
      "metadata": {
        "colab": {
          "base_uri": "https://localhost:8080/"
        },
        "id": "5iiU3qPUHpRg",
        "outputId": "fabb4bcf-d0b8-4684-f644-0c63e0ee68ab"
      },
      "execution_count": 3,
      "outputs": [
        {
          "output_type": "execute_result",
          "data": {
            "text/plain": [
              "False"
            ]
          },
          "metadata": {},
          "execution_count": 3
        }
      ]
    },
    {
      "cell_type": "markdown",
      "source": [
        "##Bool Function"
      ],
      "metadata": {
        "id": "NkoPAszJH9S2"
      }
    },
    {
      "cell_type": "code",
      "source": [
        "print(bool(\"Hello\"))\n",
        "print(bool(15))\n",
        "\n",
        "print(bool())\n",
        "print(bool(0))\n",
        "print(bool(False))\n",
        "print(bool(None))\n",
        "print(bool([]))"
      ],
      "metadata": {
        "colab": {
          "base_uri": "https://localhost:8080/"
        },
        "id": "6oHdxFYVH57f",
        "outputId": "0058226e-d4d4-4008-9b4a-cbab6b874edb"
      },
      "execution_count": 4,
      "outputs": [
        {
          "output_type": "stream",
          "name": "stdout",
          "text": [
            "True\n",
            "True\n",
            "False\n",
            "False\n",
            "False\n",
            "False\n",
            "False\n"
          ]
        }
      ]
    },
    {
      "cell_type": "markdown",
      "source": [
        "##Function"
      ],
      "metadata": {
        "id": "Wnd5FgOkIfR7"
      }
    },
    {
      "cell_type": "code",
      "source": [
        "def edmarFunction():\n",
        "  return True\n",
        "\n",
        "print(edmarFunction())"
      ],
      "metadata": {
        "colab": {
          "base_uri": "https://localhost:8080/"
        },
        "id": "FQoMvS3RIiqw",
        "outputId": "ac5483c6-4575-4197-e693-8d47feac3071"
      },
      "execution_count": 6,
      "outputs": [
        {
          "output_type": "stream",
          "name": "stdout",
          "text": [
            "True\n"
          ]
        }
      ]
    },
    {
      "cell_type": "code",
      "source": [
        "def edmarFunction():\n",
        "  return True\n",
        "\n",
        "if edmarFunction():\n",
        "  print(\"Yes\")\n",
        "\n",
        "else:\n",
        "  print(\"No\")"
      ],
      "metadata": {
        "colab": {
          "base_uri": "https://localhost:8080/"
        },
        "id": "Nlo6nnP2JJU3",
        "outputId": "47cc278a-2cb6-4210-da62-985dcb41a03a"
      },
      "execution_count": 10,
      "outputs": [
        {
          "output_type": "stream",
          "name": "stdout",
          "text": [
            "Yes\n"
          ]
        }
      ]
    },
    {
      "cell_type": "markdown",
      "source": [
        "##Arithmetic Operations"
      ],
      "metadata": {
        "id": "R27M9WlSJnWx"
      }
    },
    {
      "cell_type": "code",
      "source": [
        "print(10+9)\n",
        "print(10-9)\n",
        "print(10*9)\n",
        "print(10/5)\n",
        "print(10**2)\n",
        "print(10*9)\n"
      ],
      "metadata": {
        "colab": {
          "base_uri": "https://localhost:8080/"
        },
        "id": "IYhJlz46JqLM",
        "outputId": "58b45ee2-5281-4cc9-ef34-3bc36b5c3bc0"
      },
      "execution_count": 12,
      "outputs": [
        {
          "output_type": "stream",
          "name": "stdout",
          "text": [
            "19\n",
            "1\n",
            "90\n",
            "2.0\n",
            "100\n",
            "90\n"
          ]
        }
      ]
    },
    {
      "cell_type": "markdown",
      "source": [
        "##Bitwise Operators"
      ],
      "metadata": {
        "id": "hsWQJijjKa_i"
      }
    },
    {
      "cell_type": "code",
      "source": [
        "print(60&13)\n",
        "print(60|13)\n",
        "print(60^13)"
      ],
      "metadata": {
        "colab": {
          "base_uri": "https://localhost:8080/"
        },
        "id": "M3wVgXYgKe92",
        "outputId": "4d771a07-1cd3-4c9f-a34f-82a6ad8e9e2f"
      },
      "execution_count": 14,
      "outputs": [
        {
          "output_type": "stream",
          "name": "stdout",
          "text": [
            "12\n",
            "61\n",
            "49\n"
          ]
        }
      ]
    },
    {
      "cell_type": "markdown",
      "source": [
        "##Assignment Operators"
      ],
      "metadata": {
        "id": "qO6PF3S1LMur"
      }
    },
    {
      "cell_type": "code",
      "source": [
        "x = 6\n",
        "\n",
        "y = 20 \n",
        "\n",
        "y/= 5 \n",
        "\n",
        "x+=3 \n",
        "print(x)\n",
        "\n",
        "print(y)"
      ],
      "metadata": {
        "colab": {
          "base_uri": "https://localhost:8080/"
        },
        "id": "9WKsz7RtLPXa",
        "outputId": "627044f9-6dbd-44a4-e26c-1c3aa97d7e38"
      },
      "execution_count": 18,
      "outputs": [
        {
          "output_type": "stream",
          "name": "stdout",
          "text": [
            "9\n",
            "4.0\n"
          ]
        }
      ]
    },
    {
      "cell_type": "markdown",
      "source": [
        "## Logical Operators "
      ],
      "metadata": {
        "id": "yUBooakqLuv0"
      }
    },
    {
      "cell_type": "code",
      "source": [
        "x = True \n",
        "y = False \n",
        "\n",
        "print (x and y)\n",
        "print (x or y)"
      ],
      "metadata": {
        "colab": {
          "base_uri": "https://localhost:8080/"
        },
        "id": "LzE8zS0VLrEC",
        "outputId": "518ffc05-3cec-45c6-995b-3449fad627fa"
      },
      "execution_count": 21,
      "outputs": [
        {
          "output_type": "stream",
          "name": "stdout",
          "text": [
            "False\n",
            "True\n"
          ]
        }
      ]
    },
    {
      "cell_type": "markdown",
      "source": [
        "#Identity Operators "
      ],
      "metadata": {
        "id": "jIzxNqiZMVG3"
      }
    },
    {
      "cell_type": "code",
      "source": [
        "x is y \n",
        "x is not y "
      ],
      "metadata": {
        "colab": {
          "base_uri": "https://localhost:8080/"
        },
        "id": "zX6rX9j-MXNc",
        "outputId": "3ad028e1-4c6c-4b38-cf96-225919793ce0"
      },
      "execution_count": 22,
      "outputs": [
        {
          "output_type": "execute_result",
          "data": {
            "text/plain": [
              "True"
            ]
          },
          "metadata": {},
          "execution_count": 22
        }
      ]
    }
  ]
}