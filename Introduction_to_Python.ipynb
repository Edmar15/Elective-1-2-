{
  "nbformat": 4,
  "nbformat_minor": 0,
  "metadata": {
    "colab": {
      "name": "Introduction to Python.ipynb",
      "provenance": [],
      "authorship_tag": "ABX9TyO20FD5E/7rAUaxu2R2znGS",
      "include_colab_link": true
    },
    "kernelspec": {
      "name": "python3",
      "display_name": "Python 3"
    },
    "language_info": {
      "name": "python"
    }
  },
  "cells": [
    {
      "cell_type": "markdown",
      "metadata": {
        "id": "view-in-github",
        "colab_type": "text"
      },
      "source": [
        "<a href=\"https://colab.research.google.com/github/Edmar15/Elective-1-2-/blob/main/Introduction_to_Python.ipynb\" target=\"_parent\"><img src=\"https://colab.research.google.com/assets/colab-badge.svg\" alt=\"Open In Colab\"/></a>"
      ]
    },
    {
      "cell_type": "markdown",
      "source": [
        "##Python Indentation"
      ],
      "metadata": {
        "id": "gz_KssfnOaYq"
      }
    },
    {
      "cell_type": "code",
      "execution_count": 8,
      "metadata": {
        "colab": {
          "base_uri": "https://localhost:8080/"
        },
        "id": "c3KR6tgNORZH",
        "outputId": "e6647ab7-cc85-4fda-ec0e-68efd6227b3d"
      },
      "outputs": [
        {
          "output_type": "stream",
          "name": "stdout",
          "text": [
            "5 is greater than 2 \n"
          ]
        }
      ],
      "source": [
        " x = 5 \n",
        " y = 2 \n",
        "\n",
        " if x > y :\n",
        "    print ( f\"{x} is greater than {y} \")\n",
        "\n",
        "else: \n",
        "    print(f\"{y} is greater than {x} \")\n"
      ]
    },
    {
      "cell_type": "code",
      "source": [
        "\n",
        "x = 'Sally'\n",
        "\n",
        "print(x)"
      ],
      "metadata": {
        "colab": {
          "base_uri": "https://localhost:8080/"
        },
        "id": "ZOhPoxxIPiv-",
        "outputId": "23386db6-d715-4c32-c8ea-c38cdd1fc206"
      },
      "execution_count": 14,
      "outputs": [
        {
          "output_type": "stream",
          "name": "stdout",
          "text": [
            "Sally\n"
          ]
        }
      ]
    }
  ]
}